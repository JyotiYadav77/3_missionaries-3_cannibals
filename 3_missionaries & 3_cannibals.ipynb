{
 "cells": [
  {
   "cell_type": "code",
   "execution_count": null,
   "metadata": {},
   "outputs": [
    {
     "name": "stdout",
     "output_type": "stream",
     "text": [
      "|🌊🌊🌊🌊🌊🚢|💂💂💂👹👹👹"
     ]
    }
   ],
   "source": [
    "from IPython.display import clear_output\n",
    "def display():\n",
    "    for i in range(missionaries_on_left):\n",
    "        print('\\U0001f482',end=\"\")\n",
    "    for i in range(missionaries_on_left):\n",
    "        print('\\U0001f479',end=\"\")\n",
    "    if boat_side == 'Right':\n",
    "        print('|\\U0001f30a\\U0001f30a\\U0001f30a\\U0001f30a\\U0001f30a\\U0001f6A2|',end=\"\")\n",
    "    else:\n",
    "        print('|\\U0001f6A2\\U0001f30a\\U0001f30a\\U0001f30a\\U0001f30a\\U0001f30a|',end=\"\")\n",
    "    for i in range(missionaries_on_right):\n",
    "        print('\\U0001f482',end=\"\")\n",
    "    for i in range(missionaries_on_right):\n",
    "        print('\\U0001f479',end=\"\")\n",
    "        \n",
    "boat_side = 'Right'\n",
    "missionaries_on_right = 3\n",
    "cannibals_on_right = 3\n",
    "missionaries_on_left = 0\n",
    "cannibals_on_left = 0\n",
    "display()\n",
    "while(True):\n",
    "    missionaries = int(input(\"\\nEnter no of missionaries: \"))\n",
    "    cannibals = int(input(\"Enter no of cannibals: \"))\n",
    "    max = missionaries + cannibals\n",
    "    if (max < 1 or max > 2):\n",
    "        print(\"---Invalid move---\")\n",
    "        continue\n",
    "    if(boat_side == 'Right'):\n",
    "        if missionaries > missionaries_on_right or cannibals > cannibals_on_right:\n",
    "            print(\"---Invalid move---\")\n",
    "            continue\n",
    "        missionaries_on_right = missionaries_on_right  - missionaries\n",
    "        cannibals_on_right = cannibals_on_right - cannibals\n",
    "        missionaries_on_left = missionaries_on_left  + missionaries\n",
    "        cannibals_on_left = cannibals_on_left + cannibals\n",
    "        boat_side='Left'\n",
    "        clear_output()\n",
    "        display()\n",
    "    else:\n",
    "        if(missionaries > missionaries_on_left or cannibals > cannibals_on_left):\n",
    "            print(\"---Invalid move---\")\n",
    "            continue\n",
    "        missionaries_on_left = missionaries_on_left - missionaries\n",
    "        cannibals_on_left = cannibals_on_left - cannibals\n",
    "        missionaries_on_right = missionaries_on_right + missionaries\n",
    "        cannibals_on_right = cannibals_on_right + cannibals\n",
    "        boat_side = 'Right'\n",
    "        clear_output()\n",
    "        display()\n",
    "    \n",
    "    if(missionaries_on_right < cannibals_on_right and missionaries > 0 or missionaries_on_left < cannibals_on_left and missionaries > 0):\n",
    "        print(\"\\n  *** YOU LOSE ***\")\n",
    "        break\n",
    "    elif(missionaries_on_left == 3 and cannibals_on_left == 3):\n",
    "        print(\"*** YOU WIN ***\")\n",
    "        break\n",
    "print(\"**** GAME OVER ****\")"
   ]
  },
  {
   "cell_type": "code",
   "execution_count": null,
   "metadata": {},
   "outputs": [],
   "source": []
  }
 ],
 "metadata": {
  "kernelspec": {
   "display_name": "Python 3",
   "language": "python",
   "name": "python3"
  },
  "language_info": {
   "codemirror_mode": {
    "name": "ipython",
    "version": 3
   },
   "file_extension": ".py",
   "mimetype": "text/x-python",
   "name": "python",
   "nbconvert_exporter": "python",
   "pygments_lexer": "ipython3",
   "version": "3.8.3"
  }
 },
 "nbformat": 4,
 "nbformat_minor": 4
}
